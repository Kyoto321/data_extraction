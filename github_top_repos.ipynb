{
 "cells": [
  {
   "cell_type": "code",
   "execution_count": null,
   "id": "92982657-d3ca-4097-bbcd-689efbfcf3c4",
   "metadata": {},
   "outputs": [],
   "source": []
  },
  {
   "cell_type": "markdown",
   "id": "a970fd34-7b0c-4335-867c-6b321beea712",
   "metadata": {},
   "source": [
    "### ETL top repositories data from github "
   ]
  },
  {
   "cell_type": "markdown",
   "id": "0d12c1e9-b572-4bd9-8351-21932b64cd06",
   "metadata": {},
   "source": [
    "#### A simple web content scrapping process using python "
   ]
  },
  {
   "cell_type": "markdown",
   "id": "73fc7f9b-02a5-42c0-8972-defc1bc47252",
   "metadata": {},
   "source": [
    "### Steps\n",
    "### Scrape github.com/topics\n",
    "#### Get the list of topics, for each topics get the topic title, topic page URL and topic description\n",
    "#### For each topic get the first 25 repositories in the topic from the top page\n",
    "#### For each repo, grab the repo name, username, stars and the repo URL\n",
    "#### For each topic create a CSV file in this format\n",
    "\n",
    "#### Repo name, username, stars, repo URL"
   ]
  },
  {
   "cell_type": "code",
   "execution_count": null,
   "id": "0871c9ea-1390-4776-a81d-6ce34bf2490f",
   "metadata": {},
   "outputs": [],
   "source": []
  },
  {
   "cell_type": "markdown",
   "id": "35518914-38b9-4412-805c-b1e20743f00d",
   "metadata": {},
   "source": [
    "#### Extract Data"
   ]
  },
  {
   "cell_type": "code",
   "execution_count": 38,
   "id": "6f8cbe85-8fe2-4bab-9805-c61e17701c4a",
   "metadata": {},
   "outputs": [],
   "source": [
    "# import libraries\n",
    "import requests\n",
    "from bs4 import BeautifulSoup"
   ]
  },
  {
   "cell_type": "markdown",
   "id": "150a7552-a5eb-4c01-a7d2-cfe82e054394",
   "metadata": {},
   "source": [
    "##### Using requests library to scrape website and download webpages \n",
    "##### BeautifulSoup to parse the contents"
   ]
  },
  {
   "cell_type": "code",
   "execution_count": null,
   "id": "34daf204-0e58-4cbe-b331-3534889db671",
   "metadata": {},
   "outputs": [],
   "source": [
    "def get_topics_page():\n",
    "    topics_url = 'https://github.com/topics'\n",
    "    response = requests.get(topics_url)    \n",
    "    if response.status_code != 200:\n",
    "        raise Exception('Failed to load page {}'.format(topic_url))\n",
    "    file = BeautifulSoup(response.text, 'lxml')\n",
    "    return file"
   ]
  },
  {
   "cell_type": "code",
   "execution_count": null,
   "id": "412ed5a5-796f-4926-9086-e38624b98111",
   "metadata": {},
   "outputs": [],
   "source": [
    "#file = get_topics_page()\n",
    "#file.find('a')"
   ]
  },
  {
   "cell_type": "code",
   "execution_count": 57,
   "id": "a1b54e82-b8ee-4a49-a786-d87967767fa4",
   "metadata": {},
   "outputs": [],
   "source": [
    "# parse information from the webpage \n",
    "# define helper functions to get the list of all topic titles, topic descriptions and topic urls from the topics_page"
   ]
  },
  {
   "cell_type": "code",
   "execution_count": null,
   "id": "0b19436c-3000-41e0-927c-6dbd361af5af",
   "metadata": {},
   "outputs": [],
   "source": [
    "#to get list of titles\n",
    "def get_topic_titles(file):\n",
    "    topic_title_tags = file.find_all('p', {'class': 'f3 lh-condensed mb-0 mt-1 Link--primary'}) \n",
    "    \n",
    "    topic_titles = []\n",
    "    for tag in topic_title_tags:\n",
    "        topic_titles.append(tag.text)\n",
    "    return topic_titles\n",
    "    #print(topic_titles)\n",
    "   \n"
   ]
  },
  {
   "cell_type": "code",
   "execution_count": 73,
   "id": "338c6b35-266c-495c-9d65-2c0fd0153680",
   "metadata": {
    "tags": []
   },
   "outputs": [],
   "source": [
    "topics = get_topic_titles(file)"
   ]
  },
  {
   "cell_type": "code",
   "execution_count": 74,
   "id": "bda1acad-b1f7-4ab9-adc5-314dc5c62f1e",
   "metadata": {},
   "outputs": [
    {
     "data": {
      "text/plain": [
       "'3D'"
      ]
     },
     "execution_count": 74,
     "metadata": {},
     "output_type": "execute_result"
    }
   ],
   "source": [
    "topics[0]"
   ]
  },
  {
   "cell_type": "code",
   "execution_count": null,
   "id": "bf01f097-d366-4c13-adcd-bd47e42bef49",
   "metadata": {},
   "outputs": [],
   "source": [
    "# to get list of all descriptions\n",
    "def get_topic_descs(file):\n",
    "    desc_selector ='f5 color-fg-muted mb-0 mt-1'\n",
    "    description_tags = file.find_all('p', {'class':desc_selector })    \n",
    "    topic_descs = []\n",
    "    for tag in description_tags:\n",
    "        topic_descs.append(tag.text.strip())\n",
    "    return topic_descs\n",
    "    #print(topic_descs[:5])\n",
    "    "
   ]
  },
  {
   "cell_type": "code",
   "execution_count": 62,
   "id": "2ae3c5b5-6cde-441b-a2b3-81b4538c9431",
   "metadata": {},
   "outputs": [],
   "source": [
    "descs = get_topic_descs(file)"
   ]
  },
  {
   "cell_type": "code",
   "execution_count": 71,
   "id": "fa037a2a-2fbf-4dfa-8e1c-e84a9ef3bebf",
   "metadata": {},
   "outputs": [
    {
     "data": {
      "text/plain": [
       "'3D refers to the use of three-dimensional graphics, modeling, and animation in various industries.'"
      ]
     },
     "execution_count": 71,
     "metadata": {},
     "output_type": "execute_result"
    }
   ],
   "source": [
    "descs[0]"
   ]
  },
  {
   "cell_type": "code",
   "execution_count": 88,
   "id": "236c92bc-f3a3-4528-bb9d-1e57b4a701b8",
   "metadata": {},
   "outputs": [],
   "source": [
    "# to get list of all urls\n",
    "def get_topic_url(file):\n",
    "    topic_link_tags = file.find_all( 'a', {'class': 'no-underline flex-1 d-flex flex-column'})\n",
    "\n",
    "    topic_urls = []\n",
    "    base_urls = 'https://github.com'\n",
    "    for tag in topic_link_tags:\n",
    "        topic_urls.append(base_urls + tag['href'])\n",
    "    return topic_urls\n",
    "    #print(topic_urls)"
   ]
  },
  {
   "cell_type": "code",
   "execution_count": 68,
   "id": "03f9fd6f-2f75-4c8f-89cd-99bda7b538d6",
   "metadata": {
    "tags": []
   },
   "outputs": [],
   "source": [
    "urls = get_topic_url(file)"
   ]
  },
  {
   "cell_type": "code",
   "execution_count": 72,
   "id": "5b58afea-a8f8-4e12-95b4-5632a46f65bb",
   "metadata": {
    "tags": []
   },
   "outputs": [
    {
     "data": {
      "text/plain": [
       "'https://github.com/topics/3d'"
      ]
     },
     "execution_count": 72,
     "metadata": {},
     "output_type": "execute_result"
    }
   ],
   "source": [
    "urls[0]"
   ]
  },
  {
   "cell_type": "code",
   "execution_count": null,
   "id": "739d9e14-e4d6-4874-9b4d-ffab3370f8b4",
   "metadata": {},
   "outputs": [],
   "source": [
    "# scrape topics and create a single pandas dataframe\n",
    "\n",
    "def scrape_topics():\n",
    "    topics_url = 'https://github.com/topics'\n",
    "    response = requests.get(topics_url)    \n",
    "        \n",
    "    if response.status_code != 200:\n",
    "        raise Exception('Failed to load page {}'.format(topic_url))\n",
    "    file = BeautifulSoup(response.text, 'lxml')\n",
    "    \n",
    "    topic_dict = {\n",
    "        'title': get_topic_title(file),\n",
    "        'description' : get_topic_descs(file),\n",
    "        'url' : get_topic_url(file)\n",
    "        \n",
    "    }\n",
    "    \n",
    "    return pd.DataFrame(topic_dict)"
   ]
  },
  {
   "cell_type": "markdown",
   "id": "3749499d-b964-4b3d-b067-db28b0b5b29c",
   "metadata": {},
   "source": [
    "#### Transform"
   ]
  },
  {
   "cell_type": "markdown",
   "id": "373699ed-8eeb-431a-a8f9-e8b960f18ef5",
   "metadata": {
    "tags": []
   },
   "source": [
    "##### To get the top repositories from topics_page"
   ]
  },
  {
   "cell_type": "code",
   "execution_count": null,
   "id": "e3290f34-5aac-4eea-aa05-fe2523f67129",
   "metadata": {},
   "outputs": [],
   "source": [
    "# get topic page\n",
    "def get_topic_page(topic_url):\n",
    "    response = requests.get(topic_page_url)\n",
    "    if response.status_code != 200:\n",
    "        raise Exception('Failed to load page {}'.format(topic_url))\n",
    "    \n",
    "    topic_page = BeautifulSoup(response.text, 'lxml')\n",
    "    return topic_page\n"
   ]
  },
  {
   "cell_type": "code",
   "execution_count": null,
   "id": "dc450c75-694b-45be-85fd-0ec22621e456",
   "metadata": {},
   "outputs": [],
   "source": [
    "page = get_topic_page('https://github.com/topics/3d')"
   ]
  },
  {
   "cell_type": "code",
   "execution_count": null,
   "id": "5549d117-becc-4bd3-a11e-e74515259fbb",
   "metadata": {},
   "outputs": [],
   "source": [
    "# get repo details\n",
    "def get_repo_detail(h3_tag, star_ratings):\n",
    "    # to get all required details about repository\n",
    "    a_tags = h3_tag.find_all('a')\n",
    "    username = a_tags[0].text.strip()\n",
    "    repo_name = a_tags[1].text.strip()\n",
    "    repo_url =  base_urls + a_tags[1]['href']\n",
    "    stars = parse_star_count(star_ratings.text.strip())\n",
    "    return username, repo_name, repo_url, stars\n"
   ]
  },
  {
   "cell_type": "code",
   "execution_count": null,
   "id": "66a6f398-b401-4ee6-afe9-6cb1a97e1a12",
   "metadata": {},
   "outputs": [],
   "source": [
    "get_repo_detail(repo_user_tags[0], star_rating[0])"
   ]
  },
  {
   "cell_type": "code",
   "execution_count": 79,
   "id": "410fe5f8-6356-44c8-a24e-cdb6736303b7",
   "metadata": {},
   "outputs": [],
   "source": [
    "#import pandas\n",
    "import pandas as pd"
   ]
  },
  {
   "cell_type": "code",
   "execution_count": 85,
   "id": "dcfff13d-98ac-4388-870e-543e575fbcca",
   "metadata": {},
   "outputs": [],
   "source": [
    "def get_repo_info(topic_page):\n",
    "    # get tags containing repo title, repo_url and username\n",
    "    catg = 'f3 color-fg-muted text-normal lh-condensed'\n",
    "    repo_user_tags = topic_page.find_all('h3', {'class':catg })\n",
    "    # get the star tags\n",
    "    cat = 'Counter js-social-count'\n",
    "    star_rating = topic_page.find_all('span', {'class':cat})\n",
    "    \n",
    "    topic_repos_dict = {\n",
    "        'username' : [],\n",
    "        'repo_name' : [],\n",
    "        'repo_url' : [],\n",
    "        'stars' : []\n",
    "    }\n",
    "    \n",
    "    #get the repo info\n",
    "    for i in range(len(repo_user_tags)):\n",
    "        repo_info = get_repo_detail(repo_user_tags[i], star_rating[i])\n",
    "        topic_repos_dict['username'].append(repo_info[0])\n",
    "        topic_repos_dict['repo_name'].append(repo_info[1])\n",
    "        topic_repos_dict['repo_url'].append(repo_info[2])\n",
    "        topic_repos_dict['stars'].append(repo_info[3])\n",
    "    return pd.DataFrame(topic_repos_dict)"
   ]
  },
  {
   "cell_type": "markdown",
   "id": "6e6318ce-684f-4d12-b2d4-f897c4781b66",
   "metadata": {},
   "source": [
    "#### Load data"
   ]
  },
  {
   "cell_type": "code",
   "execution_count": 90,
   "id": "9a7e19c1-9e42-4f33-acf7-c859292e998c",
   "metadata": {},
   "outputs": [],
   "source": [
    "def scrape_topic(topic_url, topic_name):\n",
    "    fname = topic_name + '.csv'\n",
    "    if os.path.exists(fname):\n",
    "        print(\"This file {} already exist, skipping...\".format(fname))\n",
    "        return\n",
    "    topic_df = get_repo_info(get_topic_page(topic_url))\n",
    "    topic_df.to_csv(fname, index=None)"
   ]
  },
  {
   "cell_type": "markdown",
   "id": "3007f722-0e94-459e-833c-9b12a768a558",
   "metadata": {},
   "source": [
    "##### Getting everything together"
   ]
  },
  {
   "cell_type": "code",
   "execution_count": 143,
   "id": "702667ee-f673-4434-9f55-33ba133eb83c",
   "metadata": {},
   "outputs": [],
   "source": [
    "# to scrape all the top repos for the topics on first page\n",
    "def scrape_topics_repos():\n",
    "    print('Scraping topics from github')\n",
    "    topics_df = scrape_topics()\n",
    "    for index, row in topics_df.iterrows():\n",
    "        print('Scraping github for top repos \"{}\"'.format(row['title']))\n",
    "        scrape_topic(row['url'], row['title'])\n",
    "    "
   ]
  },
  {
   "cell_type": "code",
   "execution_count": null,
   "id": "e0add745-9fc6-45ff-a342-bc09c6d43795",
   "metadata": {},
   "outputs": [],
   "source": [
    "#scrape_topics_repos()"
   ]
  },
  {
   "cell_type": "code",
   "execution_count": null,
   "id": "c5db2908-b186-4d28-bc57-c6f31c743c88",
   "metadata": {},
   "outputs": [],
   "source": [
    "#pd.read_csv('data/Android.csv')"
   ]
  },
  {
   "cell_type": "code",
   "execution_count": null,
   "id": "67c3aa24-17a5-48ff-9541-5865f636efd4",
   "metadata": {},
   "outputs": [],
   "source": []
  },
  {
   "cell_type": "code",
   "execution_count": null,
   "id": "6fdd805e-bcac-43d8-9416-1b1d7e221d6f",
   "metadata": {},
   "outputs": [],
   "source": [
    "# to scrape / write an image file"
   ]
  },
  {
   "cell_type": "code",
   "execution_count": null,
   "id": "53e06189-4e3b-4863-a342-52c4978888b4",
   "metadata": {},
   "outputs": [],
   "source": [
    "#img_tag = file.find_all('img') \n",
    "#img_url = img_tag[0]['src']\n"
   ]
  },
  {
   "cell_type": "code",
   "execution_count": null,
   "id": "9a82cd8c-8a51-4a5a-856a-ce41aed4f2cb",
   "metadata": {},
   "outputs": [],
   "source": [
    "#r = requests.get(img_url)\n",
    "# ( r = requests.get('https://repository-imagies.githubusercontent.com/123456789') )\n"
   ]
  },
  {
   "cell_type": "code",
   "execution_count": null,
   "id": "54fb7f5b-4bd5-4ba8-ac76-ad02ec3f861f",
   "metadata": {},
   "outputs": [],
   "source": [
    "#with open( image.jpg , 'wb') as f:\n",
    "#    file(r.content)\n"
   ]
  },
  {
   "cell_type": "code",
   "execution_count": null,
   "id": "8a129ace-e023-48bb-9382-b3dc82ce3777",
   "metadata": {},
   "outputs": [],
   "source": []
  }
 ],
 "metadata": {
  "kernelspec": {
   "display_name": "Python 3 (ipykernel)",
   "language": "python",
   "name": "python3"
  },
  "language_info": {
   "codemirror_mode": {
    "name": "ipython",
    "version": 3
   },
   "file_extension": ".py",
   "mimetype": "text/x-python",
   "name": "python",
   "nbconvert_exporter": "python",
   "pygments_lexer": "ipython3",
   "version": "3.7.5"
  }
 },
 "nbformat": 4,
 "nbformat_minor": 5
}
